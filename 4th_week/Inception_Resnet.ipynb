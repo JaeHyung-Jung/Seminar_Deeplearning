{
  "nbformat": 4,
  "nbformat_minor": 0,
  "metadata": {
    "colab": {
      "name": "Inception_Resnet.ipynb",
      "provenance": [],
      "collapsed_sections": []
    },
    "kernelspec": {
      "name": "python3",
      "display_name": "Python 3"
    },
    "language_info": {
      "name": "python"
    },
    "accelerator": "GPU",
    "widgets": {
      "application/vnd.jupyter.widget-state+json": {
        "d4be663d6360436b970f1dde07e1be52": {
          "model_module": "@jupyter-widgets/controls",
          "model_name": "HBoxModel",
          "state": {
            "_view_name": "HBoxView",
            "_dom_classes": [],
            "_model_name": "HBoxModel",
            "_view_module": "@jupyter-widgets/controls",
            "_model_module_version": "1.5.0",
            "_view_count": null,
            "_view_module_version": "1.5.0",
            "box_style": "",
            "layout": "IPY_MODEL_df4bbefcdecf4764ad60610c38355d7c",
            "_model_module": "@jupyter-widgets/controls",
            "children": [
              "IPY_MODEL_c37e01dce7cd453d8e6287fdd6d22744",
              "IPY_MODEL_ad5841e7852546e68ec8a4df50815815"
            ]
          }
        },
        "df4bbefcdecf4764ad60610c38355d7c": {
          "model_module": "@jupyter-widgets/base",
          "model_name": "LayoutModel",
          "state": {
            "_view_name": "LayoutView",
            "grid_template_rows": null,
            "right": null,
            "justify_content": null,
            "_view_module": "@jupyter-widgets/base",
            "overflow": null,
            "_model_module_version": "1.2.0",
            "_view_count": null,
            "flex_flow": null,
            "width": null,
            "min_width": null,
            "border": null,
            "align_items": null,
            "bottom": null,
            "_model_module": "@jupyter-widgets/base",
            "top": null,
            "grid_column": null,
            "overflow_y": null,
            "overflow_x": null,
            "grid_auto_flow": null,
            "grid_area": null,
            "grid_template_columns": null,
            "flex": null,
            "_model_name": "LayoutModel",
            "justify_items": null,
            "grid_row": null,
            "max_height": null,
            "align_content": null,
            "visibility": null,
            "align_self": null,
            "height": null,
            "min_height": null,
            "padding": null,
            "grid_auto_rows": null,
            "grid_gap": null,
            "max_width": null,
            "order": null,
            "_view_module_version": "1.2.0",
            "grid_template_areas": null,
            "object_position": null,
            "object_fit": null,
            "grid_auto_columns": null,
            "margin": null,
            "display": null,
            "left": null
          }
        },
        "c37e01dce7cd453d8e6287fdd6d22744": {
          "model_module": "@jupyter-widgets/controls",
          "model_name": "FloatProgressModel",
          "state": {
            "_view_name": "ProgressView",
            "style": "IPY_MODEL_c5e23a466af34a97a65b86a148ba49bd",
            "_dom_classes": [],
            "description": "",
            "_model_name": "FloatProgressModel",
            "bar_style": "success",
            "max": 2640397119,
            "_view_module": "@jupyter-widgets/controls",
            "_model_module_version": "1.5.0",
            "value": 2640397119,
            "_view_count": null,
            "_view_module_version": "1.5.0",
            "orientation": "horizontal",
            "min": 0,
            "description_tooltip": null,
            "_model_module": "@jupyter-widgets/controls",
            "layout": "IPY_MODEL_925c8f61d2484504a81e3c393d0cd9a6"
          }
        },
        "ad5841e7852546e68ec8a4df50815815": {
          "model_module": "@jupyter-widgets/controls",
          "model_name": "HTMLModel",
          "state": {
            "_view_name": "HTMLView",
            "style": "IPY_MODEL_f19ac6bd586f4db0be748b0fc53442a1",
            "_dom_classes": [],
            "description": "",
            "_model_name": "HTMLModel",
            "placeholder": "​",
            "_view_module": "@jupyter-widgets/controls",
            "_model_module_version": "1.5.0",
            "value": " 2640397312/? [03:32&lt;00:00, 12428279.43it/s]",
            "_view_count": null,
            "_view_module_version": "1.5.0",
            "description_tooltip": null,
            "_model_module": "@jupyter-widgets/controls",
            "layout": "IPY_MODEL_a0cc9a1bd6de4e2e937e7f33538122a2"
          }
        },
        "c5e23a466af34a97a65b86a148ba49bd": {
          "model_module": "@jupyter-widgets/controls",
          "model_name": "ProgressStyleModel",
          "state": {
            "_view_name": "StyleView",
            "_model_name": "ProgressStyleModel",
            "description_width": "initial",
            "_view_module": "@jupyter-widgets/base",
            "_model_module_version": "1.5.0",
            "_view_count": null,
            "_view_module_version": "1.2.0",
            "bar_color": null,
            "_model_module": "@jupyter-widgets/controls"
          }
        },
        "925c8f61d2484504a81e3c393d0cd9a6": {
          "model_module": "@jupyter-widgets/base",
          "model_name": "LayoutModel",
          "state": {
            "_view_name": "LayoutView",
            "grid_template_rows": null,
            "right": null,
            "justify_content": null,
            "_view_module": "@jupyter-widgets/base",
            "overflow": null,
            "_model_module_version": "1.2.0",
            "_view_count": null,
            "flex_flow": null,
            "width": null,
            "min_width": null,
            "border": null,
            "align_items": null,
            "bottom": null,
            "_model_module": "@jupyter-widgets/base",
            "top": null,
            "grid_column": null,
            "overflow_y": null,
            "overflow_x": null,
            "grid_auto_flow": null,
            "grid_area": null,
            "grid_template_columns": null,
            "flex": null,
            "_model_name": "LayoutModel",
            "justify_items": null,
            "grid_row": null,
            "max_height": null,
            "align_content": null,
            "visibility": null,
            "align_self": null,
            "height": null,
            "min_height": null,
            "padding": null,
            "grid_auto_rows": null,
            "grid_gap": null,
            "max_width": null,
            "order": null,
            "_view_module_version": "1.2.0",
            "grid_template_areas": null,
            "object_position": null,
            "object_fit": null,
            "grid_auto_columns": null,
            "margin": null,
            "display": null,
            "left": null
          }
        },
        "f19ac6bd586f4db0be748b0fc53442a1": {
          "model_module": "@jupyter-widgets/controls",
          "model_name": "DescriptionStyleModel",
          "state": {
            "_view_name": "StyleView",
            "_model_name": "DescriptionStyleModel",
            "description_width": "",
            "_view_module": "@jupyter-widgets/base",
            "_model_module_version": "1.5.0",
            "_view_count": null,
            "_view_module_version": "1.2.0",
            "_model_module": "@jupyter-widgets/controls"
          }
        },
        "a0cc9a1bd6de4e2e937e7f33538122a2": {
          "model_module": "@jupyter-widgets/base",
          "model_name": "LayoutModel",
          "state": {
            "_view_name": "LayoutView",
            "grid_template_rows": null,
            "right": null,
            "justify_content": null,
            "_view_module": "@jupyter-widgets/base",
            "overflow": null,
            "_model_module_version": "1.2.0",
            "_view_count": null,
            "flex_flow": null,
            "width": null,
            "min_width": null,
            "border": null,
            "align_items": null,
            "bottom": null,
            "_model_module": "@jupyter-widgets/base",
            "top": null,
            "grid_column": null,
            "overflow_y": null,
            "overflow_x": null,
            "grid_auto_flow": null,
            "grid_area": null,
            "grid_template_columns": null,
            "flex": null,
            "_model_name": "LayoutModel",
            "justify_items": null,
            "grid_row": null,
            "max_height": null,
            "align_content": null,
            "visibility": null,
            "align_self": null,
            "height": null,
            "min_height": null,
            "padding": null,
            "grid_auto_rows": null,
            "grid_gap": null,
            "max_width": null,
            "order": null,
            "_view_module_version": "1.2.0",
            "grid_template_areas": null,
            "object_position": null,
            "object_fit": null,
            "grid_auto_columns": null,
            "margin": null,
            "display": null,
            "left": null
          }
        }
      }
    }
  },
  "cells": [
    {
      "cell_type": "code",
      "metadata": {
        "colab": {
          "base_uri": "https://localhost:8080/"
        },
        "id": "4tzidHckKeNP",
        "outputId": "eab37d59-72af-44fa-e734-ef29b79319c0"
      },
      "source": [
        "from google.colab import drive\n",
        "drive.mount('inceptionv4')"
      ],
      "execution_count": 5,
      "outputs": [
        {
          "output_type": "stream",
          "text": [
            "Drive already mounted at inceptionv4; to attempt to forcibly remount, call drive.mount(\"inceptionv4\", force_remount=True).\n"
          ],
          "name": "stdout"
        }
      ]
    },
    {
      "cell_type": "markdown",
      "metadata": {
        "id": "46wkzpqKLLbJ"
      },
      "source": [
        "필요한 Module import"
      ]
    },
    {
      "cell_type": "code",
      "metadata": {
        "id": "-qFnoKV5Kg7s"
      },
      "source": [
        "# model\n",
        "import torch\n",
        "import torch.nn as nn\n",
        "import torch.nn.functional as F\n",
        "from torchsummary import summary\n",
        "from torch import optim\n",
        "\n",
        "# dataset and transformation\n",
        "from torchvision import datasets\n",
        "import torchvision.transforms as transforms\n",
        "from torch.utils.data import DataLoader\n",
        "import os\n",
        "\n",
        "# display images\n",
        "from torchvision import utils\n",
        "import matplotlib.pyplot as plt\n",
        "%matplotlib inline\n",
        "\n",
        "# utils\n",
        "import numpy as np\n",
        "from torchsummary import summary\n",
        "import time\n",
        "import copy"
      ],
      "execution_count": 6,
      "outputs": []
    },
    {
      "cell_type": "markdown",
      "metadata": {
        "id": "XeG5nFrILJQW"
      },
      "source": [
        "Data 받기"
      ]
    },
    {
      "cell_type": "code",
      "metadata": {
        "colab": {
          "base_uri": "https://localhost:8080/",
          "height": 151,
          "referenced_widgets": [
            "d4be663d6360436b970f1dde07e1be52",
            "df4bbefcdecf4764ad60610c38355d7c",
            "c37e01dce7cd453d8e6287fdd6d22744",
            "ad5841e7852546e68ec8a4df50815815",
            "c5e23a466af34a97a65b86a148ba49bd",
            "925c8f61d2484504a81e3c393d0cd9a6",
            "f19ac6bd586f4db0be748b0fc53442a1",
            "a0cc9a1bd6de4e2e937e7f33538122a2"
          ]
        },
        "id": "gi2-81QWKg9y",
        "outputId": "c7bc7cfe-a554-4ac2-e3e8-32f154a5df42"
      },
      "source": [
        "# specift the data path\n",
        "path2data = '/content/inceptionv4/MyDrive/data'\n",
        "\n",
        "# if not exists the path, make the directory\n",
        "if not os.path.exists(path2data):\n",
        "    os.mkdir(path2data)\n",
        "\n",
        "# load dataset\n",
        "train_ds = datasets.STL10(path2data, split='train', download=True, transform=transforms.ToTensor())\n",
        "val_ds = datasets.STL10(path2data, split='test', download=True, transform=transforms.ToTensor())\n",
        "\n",
        "print(len(train_ds))\n",
        "print(len(val_ds))"
      ],
      "execution_count": 3,
      "outputs": [
        {
          "output_type": "stream",
          "text": [
            "Downloading http://ai.stanford.edu/~acoates/stl10/stl10_binary.tar.gz to /content/inceptionv4/MyDrive/data/stl10_binary.tar.gz\n"
          ],
          "name": "stdout"
        },
        {
          "output_type": "display_data",
          "data": {
            "application/vnd.jupyter.widget-view+json": {
              "model_id": "d4be663d6360436b970f1dde07e1be52",
              "version_minor": 0,
              "version_major": 2
            },
            "text/plain": [
              "HBox(children=(FloatProgress(value=0.0, max=2640397119.0), HTML(value='')))"
            ]
          },
          "metadata": {
            "tags": []
          }
        },
        {
          "output_type": "stream",
          "text": [
            "\n",
            "Extracting /content/inceptionv4/MyDrive/data/stl10_binary.tar.gz to /content/inceptionv4/MyDrive/data\n",
            "Files already downloaded and verified\n",
            "5000\n",
            "8000\n"
          ],
          "name": "stdout"
        }
      ]
    },
    {
      "cell_type": "markdown",
      "metadata": {
        "id": "R-vqF9SuLA2S"
      },
      "source": [
        "Transformation(Augmentation)"
      ]
    },
    {
      "cell_type": "code",
      "metadata": {
        "id": "YN14MFKIK64I"
      },
      "source": [
        "# define image transformation\n",
        "transformation = transforms.Compose([\n",
        "                    transforms.ToTensor(),\n",
        "                    transforms.Resize(299)\n",
        "])\n",
        "\n",
        "train_ds.transform = transformation\n",
        "val_ds.transform = transformation"
      ],
      "execution_count": 7,
      "outputs": []
    },
    {
      "cell_type": "markdown",
      "metadata": {
        "id": "FiRRzzjoLQ1Q"
      },
      "source": [
        "Dataloader 생성(모델용량이 커서 batchsize 8이 최대임 그이상은 out of memory)"
      ]
    },
    {
      "cell_type": "code",
      "metadata": {
        "id": "Q81ejiyDKhBZ"
      },
      "source": [
        "# create dataloader\n",
        "train_dl = DataLoader(train_ds, batch_size=8, shuffle=True)\n",
        "val_dl = DataLoader(val_ds, batch_size=8, shuffle=True)"
      ],
      "execution_count": 8,
      "outputs": []
    },
    {
      "cell_type": "markdown",
      "metadata": {
        "id": "WyI-IgHELXay"
      },
      "source": [
        "샘플이미지 확인"
      ]
    },
    {
      "cell_type": "code",
      "metadata": {
        "colab": {
          "base_uri": "https://localhost:8080/",
          "height": 204
        },
        "id": "1dQHRDC1LP9I",
        "outputId": "7d3975ac-ce23-4a33-d527-b6e791ff223c"
      },
      "source": [
        "# display sample images\n",
        "def show(img, y=None, color=True): \n",
        "    npimg = img.numpy()\n",
        "    npimg_tr = np.transpose(npimg, (1, 2, 0))\n",
        "    plt.imshow(npimg_tr)\n",
        "\n",
        "    if y is not None:\n",
        "        plt.title('labels:' + str(y))\n",
        "\n",
        "np.random.seed(0)\n",
        "torch.manual_seed(0)\n",
        "\n",
        "grid_size = 4\n",
        "rnd_ind = np.random.randint(0, len(train_ds), grid_size)\n",
        "\n",
        "x_grid = [train_ds[i][0] for i in rnd_ind]\n",
        "y_grid = [train_ds[i][1] for i in rnd_ind]\n",
        "\n",
        "plt.figure(figsize=(10,10))\n",
        "x_grid = utils.make_grid(x_grid, nrow=4, padding=2)\n",
        "show(x_grid, y_grid)"
      ],
      "execution_count": 9,
      "outputs": [
        {
          "output_type": "display_data",
          "data": {
            "image/png": "[encoded data removed]",
            "text/plain": [
              "<Figure size 720x720 with 1 Axes>"
            ]
          },
          "metadata": {
            "tags": [],
            "needs_background": "light"
          }
        }
      ]
    },
    {
      "cell_type": "markdown",
      "metadata": {
        "id": "U-3df19uLeLw"
      },
      "source": [
        "Model 구축 (Conv2d 정의)"
      ]
    },
    {
      "cell_type": "code",
      "metadata": {
        "id": "tiZrAeizKhEZ"
      },
      "source": [
        "class BasicConv2d(nn.Module):\n",
        "    def __init__(self, in_channels, out_channels, kernel_size, **kwargs):\n",
        "        super().__init__()\n",
        "\n",
        "        # bias=Fasle, because BN after conv includes bias.\n",
        "        self.conv = nn.Sequential(\n",
        "            nn.Conv2d(in_channels, out_channels, kernel_size, bias=False, **kwargs),\n",
        "            nn.BatchNorm2d(out_channels),\n",
        "            nn.ReLU()\n",
        "        )\n",
        "\n",
        "    def forward(self, x):\n",
        "        x = self.conv(x)\n",
        "        return x"
      ],
      "execution_count": 9,
      "outputs": []
    },
    {
      "cell_type": "markdown",
      "metadata": {
        "id": "-eWNW4j1Lku6"
      },
      "source": [
        "Stem 정의"
      ]
    },
    {
      "cell_type": "code",
      "metadata": {
        "id": "vpkejkpyKhFs"
      },
      "source": [
        "class Stem(nn.Module):\n",
        "    def __init__(self):\n",
        "        super().__init__()\n",
        "\n",
        "        self.conv1 = nn.Sequential(\n",
        "            BasicConv2d(3, 32, 3, stride=2, padding=0), # 149 x 149 x 32\n",
        "            BasicConv2d(32, 32, 3, stride=1, padding=0), # 147 x 147 x 32\n",
        "            BasicConv2d(32, 64, 3, stride=1, padding=1), # 147 x 147 x 64 \n",
        "        )\n",
        "\n",
        "        self.branch3x3_conv = BasicConv2d(64, 96, 3, stride=2, padding=0) # 73x73x96\n",
        "\n",
        "        #  kernel_size=4: 피쳐맵 크기 73, kernel_size=3: 피쳐맵 크기 74\n",
        "        self.branch3x3_pool = nn.MaxPool2d(4, stride=2, padding=1) # 73x73x64\n",
        "\n",
        "        self.branch7x7a = nn.Sequential(\n",
        "            BasicConv2d(160, 64, 1, stride=1, padding=0),\n",
        "            BasicConv2d(64, 96, 3, stride=1, padding=0)\n",
        "        ) # 71x71x96\n",
        "\n",
        "        self.branch7x7b = nn.Sequential(\n",
        "            BasicConv2d(160, 64, 1, stride=1, padding=0),\n",
        "            BasicConv2d(64, 64, (7,1), stride=1, padding=(3,0)),\n",
        "            BasicConv2d(64, 64, (1,7), stride=1, padding=(0,3)),\n",
        "            BasicConv2d(64, 96, 3, stride=1, padding=0)\n",
        "        ) # 71x71x96\n",
        "\n",
        "        self.branchpoola = BasicConv2d(192, 192, 3, stride=2, padding=0) # 35x35x192\n",
        "\n",
        "        #  kernel_size=4: 피쳐맵 크기 73, kernel_size=3: 피쳐맵 크기 74\n",
        "        self.branchpoolb = nn.MaxPool2d(4, 2, 1) # 35x35x192\n",
        "\n",
        "\n",
        "    def forward(self, x):\n",
        "        x = self.conv1(x)\n",
        "        x = torch.cat((self.branch3x3_conv(x), self.branch3x3_pool(x)), dim=1)\n",
        "        x = torch.cat((self.branch7x7a(x), self.branch7x7b(x)), dim=1)\n",
        "        x = torch.cat((self.branchpoola(x), self.branchpoolb(x)), dim=1)\n",
        "        return x"
      ],
      "execution_count": 9,
      "outputs": []
    },
    {
      "cell_type": "markdown",
      "metadata": {
        "id": "cw-lYsoOLp6A"
      },
      "source": [
        "Stem 체크"
      ]
    },
    {
      "cell_type": "code",
      "metadata": {
        "id": "5XqX4M4vKhIR"
      },
      "source": [
        "# check Stem\n",
        "device = torch.device('cuda' if torch.cuda.is_available() else 'cpu')\n",
        "x = torch.randn((3, 3, 299, 299)).to(device)\n",
        "model = Stem().to(device)\n",
        "output_Stem = model(x)\n",
        "print('Input size:', x.size())\n",
        "print('Stem output size:', output_Stem.size())"
      ],
      "execution_count": 9,
      "outputs": []
    },
    {
      "cell_type": "markdown",
      "metadata": {
        "id": "-alD6naQLs9F"
      },
      "source": [
        "InceptionResnet A모듈 정의"
      ]
    },
    {
      "cell_type": "code",
      "metadata": {
        "id": "-gkMQSqcKhJU"
      },
      "source": [
        "class Inception_Resnet_A(nn.Module):\n",
        "    def __init__(self, in_channels):\n",
        "        super().__init__()\n",
        "\n",
        "        self.branch1x1 = BasicConv2d(in_channels, 32, 1, stride=1, padding=0)\n",
        "\n",
        "        self.branch3x3 = nn.Sequential(\n",
        "            BasicConv2d(in_channels, 32, 1, stride=1, padding=0),\n",
        "            BasicConv2d(32, 32, 3, stride=1, padding=1)\n",
        "        )\n",
        "\n",
        "        self.branch3x3stack = nn.Sequential(\n",
        "            BasicConv2d(in_channels, 32, 1, stride=1, padding=0),\n",
        "            BasicConv2d(32, 48, 3, stride=1, padding=1),\n",
        "            BasicConv2d(48, 64, 3, stride=1, padding=1)\n",
        "        )\n",
        "        \n",
        "        self.reduction1x1 = nn.Conv2d(128, 384, 1, stride=1, padding=0)\n",
        "        self.shortcut = nn.Conv2d(in_channels, 384, 1, stride=1, padding=0)\n",
        "        self.bn = nn.BatchNorm2d(384)\n",
        "        self.relu = nn.ReLU()\n",
        "\n",
        "    def forward(self, x):\n",
        "        x_shortcut = self.shortcut(x)\n",
        "        x = torch.cat((self.branch1x1(x), self.branch3x3(x), self.branch3x3stack(x)), dim=1)\n",
        "        x = self.reduction1x1(x)\n",
        "        x = self.bn(x_shortcut + x)\n",
        "        x = self.relu(x)\n",
        "        return x"
      ],
      "execution_count": 9,
      "outputs": []
    },
    {
      "cell_type": "markdown",
      "metadata": {
        "id": "hQyQ5hI_Lzo0"
      },
      "source": [
        "모듈A 확인"
      ]
    },
    {
      "cell_type": "code",
      "metadata": {
        "id": "FVBFqMn8KhK9"
      },
      "source": [
        "# check Inception_Resnet_A\n",
        "model = Inception_Resnet_A(output_Stem.size()[1]).to(device)\n",
        "output_resA = model(output_Stem)\n",
        "print('Input size:', output_Stem.size())\n",
        "print('output size:', output_resA.size())"
      ],
      "execution_count": 9,
      "outputs": []
    },
    {
      "cell_type": "markdown",
      "metadata": {
        "id": "8rXj65nSL2vD"
      },
      "source": [
        "Reduction A정의"
      ]
    },
    {
      "cell_type": "code",
      "metadata": {
        "id": "uUqQ_Vy3KhME"
      },
      "source": [
        "class ReductionA(nn.Module):\n",
        "    def __init__(self, in_channels, k, l, m, n):\n",
        "        super().__init__()\n",
        "\n",
        "        self.branchpool = nn.MaxPool2d(3, 2)\n",
        "        self.branch3x3 = BasicConv2d(in_channels, n, 3, stride=2, padding=0)\n",
        "        self.branch3x3stack = nn.Sequential(\n",
        "            BasicConv2d(in_channels, k, 1, stride=1, padding=0),\n",
        "            BasicConv2d(k, l, 3, stride=1, padding=1),\n",
        "            BasicConv2d(l, m, 3, stride=2, padding=0)\n",
        "        )\n",
        "\n",
        "        self.output_channels = in_channels + n + m\n",
        "\n",
        "    def forward(self, x):\n",
        "        x = torch.cat((self.branchpool(x), self.branch3x3(x), self.branch3x3stack(x)), dim=1)\n",
        "        return x"
      ],
      "execution_count": 9,
      "outputs": []
    },
    {
      "cell_type": "markdown",
      "metadata": {
        "id": "t_7A2UdML9S-"
      },
      "source": [
        "Reduction A 확인"
      ]
    },
    {
      "cell_type": "code",
      "metadata": {
        "id": "T8EW8dlCKhM8"
      },
      "source": [
        "# check ReductionA\n",
        "print('input size:', output_resA.size())\n",
        "model = ReductionA(output_resA.size()[1], 256, 256, 384, 384).to(device)\n",
        "output_rA = model(output_resA)\n",
        "print('output size:', output_rA.size())"
      ],
      "execution_count": 9,
      "outputs": []
    },
    {
      "cell_type": "markdown",
      "metadata": {
        "id": "uZlZl1kmMATB"
      },
      "source": [
        "InceptionResnet 모듈 B 정의"
      ]
    },
    {
      "cell_type": "code",
      "metadata": {
        "id": "1uLWq2L-L8eb"
      },
      "source": [
        "class Inception_Resnet_B(nn.Module):\n",
        "    def __init__(self, in_channels):\n",
        "        super().__init__()\n",
        "\n",
        "        self.branch1x1 = BasicConv2d(in_channels, 192, 1, stride=1, padding=0)\n",
        "        self.branch7x7 = nn.Sequential(\n",
        "            BasicConv2d(in_channels, 128, 1, stride=1, padding=0),\n",
        "            BasicConv2d(128, 160, (1,7), stride=1, padding=(0,3)),\n",
        "            BasicConv2d(160, 192, (7,1), stride=1, padding=(3,0))\n",
        "        )\n",
        "\n",
        "        self.reduction1x1 = nn.Conv2d(384, 1152, 1, stride=1, padding=0)\n",
        "        self.shortcut = nn.Conv2d(in_channels, 1152, 1, stride=1, padding=0)\n",
        "        self.bn = nn.BatchNorm2d(1152)\n",
        "        self.relu = nn.ReLU()\n",
        "\n",
        "    def forward(self, x):\n",
        "        x_shortcut = self.shortcut(x)\n",
        "        x = torch.cat((self.branch1x1(x), self.branch7x7(x)), dim=1)\n",
        "        x = self.reduction1x1(x) * 0.1\n",
        "        x = self.bn(x + x_shortcut)\n",
        "        x = self.relu(x)\n",
        "        return x"
      ],
      "execution_count": null,
      "outputs": []
    },
    {
      "cell_type": "markdown",
      "metadata": {
        "id": "HrzpfpYCMdi1"
      },
      "source": [
        "모듈B 확인"
      ]
    },
    {
      "cell_type": "code",
      "metadata": {
        "id": "U6PzLNLeL5hN"
      },
      "source": [
        "# check Inception_Resnet_B\n",
        "model = Inception_Resnet_B(output_rA.size()[1]).to(device)\n",
        "output_resB = model(output_rA)\n",
        "print('Input size:', output_rA.size())\n",
        "print('output size:', output_resB.size())"
      ],
      "execution_count": 9,
      "outputs": []
    },
    {
      "cell_type": "markdown",
      "metadata": {
        "id": "eQGqsPeCMgJH"
      },
      "source": [
        "Reduction B 정의"
      ]
    },
    {
      "cell_type": "code",
      "metadata": {
        "id": "x4YnE8CKL5io"
      },
      "source": [
        "class ReductionB(nn.Module):\n",
        "    def __init__(self, in_channels):\n",
        "        super().__init__()\n",
        "\n",
        "        self.branchpool = nn.MaxPool2d(3, 2)\n",
        "        self.branch3x3a = nn.Sequential(\n",
        "            BasicConv2d(in_channels, 256, 1, stride=1, padding=0),\n",
        "            BasicConv2d(256, 384, 3, stride=2, padding=0)\n",
        "        )\n",
        "        self.branch3x3b = nn.Sequential(\n",
        "            BasicConv2d(in_channels, 256, 1, stride=1, padding=0),\n",
        "            BasicConv2d(256, 288, 3, stride=2, padding=0)\n",
        "        )\n",
        "        self.branch3x3stack = nn.Sequential(\n",
        "            BasicConv2d(in_channels, 256, 1, stride=1, padding=0),\n",
        "            BasicConv2d(256, 288, 3, stride=1, padding=1),\n",
        "            BasicConv2d(288, 320, 3, stride=2, padding=0)\n",
        "        )\n",
        "\n",
        "    def forward(self, x):\n",
        "        x = torch.cat((self.branchpool(x), self.branch3x3a(x), self.branch3x3b(x), self.branch3x3stack(x)), dim=1)\n",
        "        return x"
      ],
      "execution_count": 9,
      "outputs": []
    },
    {
      "cell_type": "markdown",
      "metadata": {
        "id": "i_M_30ePMjQm"
      },
      "source": [
        "ReductionB 확인"
      ]
    },
    {
      "cell_type": "code",
      "metadata": {
        "id": "0YCkbNaqL5kP"
      },
      "source": [
        "# check ReductionB\n",
        "model = ReductionB(output_resB.size()[1]).to(device)\n",
        "output_rB = model(output_resB)\n",
        "print('Input size:', output_resB.size())\n",
        "print('output size:', output_rB.size())"
      ],
      "execution_count": 9,
      "outputs": []
    },
    {
      "cell_type": "markdown",
      "metadata": {
        "id": "QlVpb4bfMmk6"
      },
      "source": [
        "모듈 C 정의"
      ]
    },
    {
      "cell_type": "code",
      "metadata": {
        "id": "OO8Ns7JAL5lt"
      },
      "source": [
        "class Inception_Resnet_C(nn.Module):\n",
        "    def __init__(self, in_channels):\n",
        "        super().__init__()\n",
        "\n",
        "        self.branch1x1 = BasicConv2d(in_channels, 192, 1, stride=1, padding=0)\n",
        "        self.branch3x3 = nn.Sequential(\n",
        "            BasicConv2d(in_channels, 192, 1, stride=1, padding=0),\n",
        "            BasicConv2d(192, 224, (1,3), stride=1, padding=(0,1)),\n",
        "            BasicConv2d(224, 256, (3,1), stride=1, padding=(1,0))\n",
        "        )\n",
        "\n",
        "        self.reduction1x1 = nn.Conv2d(448, 2144, 1, stride=1, padding=0)\n",
        "        self.shortcut = nn.Conv2d(in_channels, 2144, 1, stride=1, padding=0) # 2144\n",
        "        self.bn = nn.BatchNorm2d(2144)\n",
        "        self.relu = nn.ReLU()\n",
        "\n",
        "    def forward(self, x):\n",
        "        x_shortcut = self.shortcut(x)\n",
        "        x = torch.cat((self.branch1x1(x), self.branch3x3(x)), dim=1)\n",
        "        x = self.reduction1x1(x) * 0.1\n",
        "        x = self.bn(x_shortcut + x)\n",
        "        x = self.relu(x)\n",
        "        return x"
      ],
      "execution_count": 9,
      "outputs": []
    },
    {
      "cell_type": "markdown",
      "metadata": {
        "id": "NcD7cVgCMo0T"
      },
      "source": [
        "Resnet C 확인"
      ]
    },
    {
      "cell_type": "code",
      "metadata": {
        "id": "piSIc66WL5m_"
      },
      "source": [
        "# check Inception_Resnet_C\n",
        "model = Inception_Resnet_C(output_rB.size()[1]).to(device)\n",
        "output_resC = model(output_rB)\n",
        "print('Input size:', output_rB.size())\n",
        "print('output size:', output_resC.size())"
      ],
      "execution_count": 9,
      "outputs": []
    },
    {
      "cell_type": "markdown",
      "metadata": {
        "id": "u44RY8swMsO3"
      },
      "source": [
        "정의된 모듈(A,B,C), Reduction(A,B,C)로 model 구성"
      ]
    },
    {
      "cell_type": "code",
      "metadata": {
        "id": "E7kDPzUHL5oW"
      },
      "source": [
        "class InceptionResNetV2(nn.Module):\n",
        "    def __init__(self, A, B, C, k=256, l=256, m=384, n=384, num_classes=10, init_weights=True):\n",
        "        super().__init__()\n",
        "        blocks = []\n",
        "        blocks.append(Stem())\n",
        "        for i in range(A):\n",
        "            blocks.append(Inception_Resnet_A(384))\n",
        "        blocks.append(ReductionA(384, k, l, m, n))\n",
        "        for i in range(B):\n",
        "            blocks.append(Inception_Resnet_B(1152))\n",
        "        blocks.append(ReductionB(1152))\n",
        "        for i in range(C):\n",
        "            blocks.append(Inception_Resnet_C(2144))\n",
        "\n",
        "        self.features = nn.Sequential(*blocks)\n",
        "\n",
        "        self.avgpool = nn.AdaptiveAvgPool2d((1,1))\n",
        "        # drop out\n",
        "        self.dropout = nn.Dropout2d(0.2)\n",
        "        self.linear = nn.Linear(2144, num_classes)\n",
        "\n",
        "        # weights inittialization\n",
        "        if init_weights:\n",
        "            self._initialize_weights()\n",
        "\n",
        "    def forward(self, x):\n",
        "        x = self.features(x)\n",
        "        x = self.avgpool(x)\n",
        "        x = x.view(x.size(0), -1)\n",
        "        x = self.dropout(x)\n",
        "        x = self.linear(x)\n",
        "        return x\n",
        "\n",
        "    # define weight initialization function\n",
        "    def _initialize_weights(self):\n",
        "        for m in self.modules():\n",
        "            if isinstance(m, nn.Conv2d):\n",
        "                nn.init.kaiming_normal_(m.weight, mode='fan_out', nonlinearity='relu')\n",
        "                if m.bias is not None:\n",
        "                    nn.init.constant_(m.bias, 0)\n",
        "            elif isinstance(m, nn.BatchNorm2d):\n",
        "                nn.init.constant_(m.weight, 1)\n",
        "                nn.init.constant_(m.bias, 0)\n",
        "            elif isinstance(m, nn.Linear):\n",
        "                nn.init.normal_(m.weight, 0, 0.01)\n",
        "                nn.init.constant_(m.bias, 0)"
      ],
      "execution_count": 9,
      "outputs": []
    },
    {
      "cell_type": "markdown",
      "metadata": {
        "id": "gP-rE5_tM2T6"
      },
      "source": [
        "Model.summary를 통해 model shape 확인"
      ]
    },
    {
      "cell_type": "code",
      "metadata": {
        "id": "MfG_vs5RL5pm"
      },
      "source": [
        "# create InceptionResNetV2\n",
        "model = InceptionResNetV2(10, 20, 10).to(device)\n",
        "summary(model, (3, 299, 299), device=device.type)"
      ],
      "execution_count": 9,
      "outputs": []
    },
    {
      "cell_type": "markdown",
      "metadata": {
        "id": "J65BmTmEM7lT"
      },
      "source": [
        "학습을 위한 HyperParameters 선언"
      ]
    },
    {
      "cell_type": "code",
      "metadata": {
        "id": "i7ArobHfL5q-"
      },
      "source": [
        "# define loss function and optimizer\n",
        "loss_func = nn.CrossEntropyLoss(reduction='sum')\n",
        "opt = optim.Adam(model.parameters(), lr=0.001)\n",
        "\n",
        "from torch.optim.lr_scheduler import ReduceLROnPlateau\n",
        "lr_scheduler = ReduceLROnPlateau(opt, mode='min', factor=0.1, patience=10)"
      ],
      "execution_count": 9,
      "outputs": []
    },
    {
      "cell_type": "markdown",
      "metadata": {
        "id": "yH3pCo9VNAN8"
      },
      "source": [
        "TRain에 필요한 함수들 정의"
      ]
    },
    {
      "cell_type": "code",
      "metadata": {
        "id": "xGveHZhqL5sY"
      },
      "source": [
        "# function to get current learning rate\n",
        "def get_lr(opt):\n",
        "    for param_group in opt.param_groups:\n",
        "        return param_group['lr']\n",
        "\n",
        "# function to calculate metric per mini-batch\n",
        "def metric_batch(output, target):\n",
        "    pred = output.argmax(1, keepdim=True)\n",
        "    corrects = pred.eq(target.view_as(pred)).sum().item()\n",
        "    return corrects\n",
        "\n",
        "# function to calculate loss per mini-batch\n",
        "def loss_batch(loss_func, output, target, opt=None):\n",
        "    loss_b = loss_func(output, target)\n",
        "    metric_b = metric_batch(output, target)\n",
        "\n",
        "    if opt is not None:\n",
        "        opt.zero_grad()\n",
        "        loss_b.backward()\n",
        "        opt.step()\n",
        "\n",
        "    return loss_b.item(), metric_b\n",
        "\n",
        "# function to calculate loss per epoch\n",
        "def loss_epoch(model, loss_func, dataset_dl, sanity_check=False, opt=None):\n",
        "    running_loss = 0.0\n",
        "    running_metric = 0.0\n",
        "    len_data = len(dataset_dl.dataset)\n",
        "\n",
        "    for xb, yb in dataset_dl:\n",
        "        xb = xb.to(device)\n",
        "        yb = yb.to(device)\n",
        "        output = model(xb)\n",
        "\n",
        "        loss_b, metric_b = loss_batch(loss_func, output, yb, opt)\n",
        "\n",
        "        running_loss += loss_b\n",
        "\n",
        "        if metric_b is not None:\n",
        "            running_metric += metric_b\n",
        "\n",
        "        if sanity_check is True:\n",
        "            break\n",
        "\n",
        "    loss = running_loss / len_data\n",
        "    metric = running_metric / len_data\n",
        "\n",
        "    return loss, metric\n",
        "\n",
        "# function to start training\n",
        "def train_val(model, params):\n",
        "    num_epochs=params['num_epochs']\n",
        "    loss_func=params[\"loss_func\"]\n",
        "    opt=params[\"optimizer\"]\n",
        "    train_dl=params[\"train_dl\"]\n",
        "    val_dl=params[\"val_dl\"]\n",
        "    sanity_check=params[\"sanity_check\"]\n",
        "    lr_scheduler=params[\"lr_scheduler\"]\n",
        "    path2weights=params[\"path2weights\"]\n",
        "\n",
        "    loss_history = {'train': [], 'val': []}\n",
        "    metric_history = {'train': [], 'val': []}\n",
        "\n",
        "    best_loss = float('inf')\n",
        "\n",
        "    start_time = time.time()\n",
        "\n",
        "    for epoch in range(num_epochs):\n",
        "        current_lr = get_lr(opt)\n",
        "        print('Epoch {}/{}, current lr={}'.format(epoch, num_epochs-1, current_lr))\n",
        "\n",
        "        model.train()\n",
        "        train_loss, train_metric = loss_epoch(model, loss_func, train_dl, sanity_check, opt)\n",
        "        loss_history['train'].append(train_loss)\n",
        "        metric_history['train'].append(train_metric)\n",
        "\n",
        "        model.eval()\n",
        "        with torch.no_grad():\n",
        "            val_loss, val_metric = loss_epoch(model, loss_func, val_dl, sanity_check)\n",
        "        loss_history['val'].append(val_loss)\n",
        "        metric_history['val'].append(val_metric)\n",
        "\n",
        "        if val_loss < best_loss:\n",
        "            best_loss = val_loss\n",
        "            print('Get best val_loss!')\n",
        "\n",
        "        lr_scheduler.step(val_loss)\n",
        "\n",
        "        print('train loss: %.6f, val loss: %.6f, accuracy: %.2f, time: %.4f min' %(train_loss, val_loss, 100*val_metric, (time.time()-start_time)/60))\n",
        "        print('-'*10)\n",
        "\n",
        "    return model, loss_history, metric_history"
      ],
      "execution_count": 9,
      "outputs": []
    },
    {
      "cell_type": "markdown",
      "metadata": {
        "id": "cFkq2OCuNDYe"
      },
      "source": [
        "모델이 커서 5epoch만 사용"
      ]
    },
    {
      "cell_type": "code",
      "metadata": {
        "id": "ZIi0xW5xL5te"
      },
      "source": [
        "params_train = {\n",
        "    'num_epochs':5,\n",
        "    'optimizer':opt,\n",
        "    'loss_func':loss_func,\n",
        "    'train_dl':train_dl,\n",
        "    'val_dl':val_dl,\n",
        "    'sanity_check':False,\n",
        "    'lr_scheduler':lr_scheduler,\n",
        "    'path2weights':'./models/weights.pt',\n",
        "}\n",
        "\n",
        "# create the directory that stores weights.pt\n",
        "def createFolder(directory):\n",
        "    try:\n",
        "        if not os.path.exists(directory):\n",
        "            os.makedirs(directory)\n",
        "    except OSerror:\n",
        "        print('Error')\n",
        "createFolder('./models')"
      ],
      "execution_count": 9,
      "outputs": []
    },
    {
      "cell_type": "markdown",
      "metadata": {
        "id": "V-wLkr9JNI8E"
      },
      "source": [
        "학습"
      ]
    },
    {
      "cell_type": "code",
      "metadata": {
        "id": "EQh7SF05L5uu"
      },
      "source": [
        "model, loss_hist, metric_hist = train_val(model, params_train)"
      ],
      "execution_count": 9,
      "outputs": []
    },
    {
      "cell_type": "markdown",
      "metadata": {
        "id": "v2hFc1kHNJ0o"
      },
      "source": [
        "loss 그래프 출력"
      ]
    },
    {
      "cell_type": "code",
      "metadata": {
        "id": "kLB5ZV8rL5wF"
      },
      "source": [
        "# Train-Validation Progress\n",
        "num_epochs=params_train[\"num_epochs\"]\n",
        "\n",
        "# plot loss progress\n",
        "plt.title(\"Train-Val Loss\")\n",
        "plt.plot(range(1,num_epochs+1),loss_hist[\"train\"],label=\"train\")\n",
        "plt.plot(range(1,num_epochs+1),loss_hist[\"val\"],label=\"val\")\n",
        "plt.ylabel(\"Loss\")\n",
        "plt.xlabel(\"Training Epochs\")\n",
        "plt.legend()\n",
        "plt.show()\n",
        "\n",
        "# plot accuracy progress\n",
        "plt.title(\"Train-Val Accuracy\")\n",
        "plt.plot(range(1,num_epochs+1),metric_hist[\"train\"],label=\"train\")\n",
        "plt.plot(range(1,num_epochs+1),metric_hist[\"val\"],label=\"val\")\n",
        "plt.ylabel(\"Accuracy\")\n",
        "plt.xlabel(\"Training Epochs\")\n",
        "plt.legend()\n",
        "plt.show()"
      ],
      "execution_count": 9,
      "outputs": []
    },
    {
      "cell_type": "code",
      "metadata": {
        "id": "pUxi4SHtL5xm"
      },
      "source": [
        ""
      ],
      "execution_count": 9,
      "outputs": []
    },
    {
      "cell_type": "code",
      "metadata": {
        "id": "youLJo_oL5yq"
      },
      "source": [
        ""
      ],
      "execution_count": null,
      "outputs": []
    }
  ]
}
{
 "cells": [
  {
   "cell_type": "code",
   "execution_count": 1,
   "metadata": {},
   "outputs": [],
   "source": [
    "%matplotlib inline"
   ]
  },
  {
   "cell_type": "markdown",
   "metadata": {},
   "source": [
    "`21.7.28 ~ `21.8.1 Written by JungJaeHyung, reffered original Codes(Pytorch Cifar10 Classifying Tutorials)"
   ]
  },
  {
   "cell_type": "markdown",
   "metadata": {},
   "source": [
    "Import Modules "
   ]
  },
  {
   "cell_type": "code",
   "execution_count": 2,
   "metadata": {},
   "outputs": [],
   "source": [
    "import torch\n",
    "import torchvision\n",
    "import torchvision.transforms as transforms\n",
    "\n",
    "import torch.nn as nn\n",
    "import torch.nn.functional as F\n",
    "\n",
    "from torchsummary import summary"
   ]
  },
  {
   "cell_type": "code",
   "execution_count": 3,
   "metadata": {},
   "outputs": [
    {
     "name": "stdout",
     "output_type": "stream",
     "text": [
      "Files already downloaded and verified\n",
      "Files already downloaded and verified\n"
     ]
    }
   ],
   "source": [
    "transform = transforms.Compose(\n",
    "    [transforms.ToTensor(),\n",
    "     transforms.Resize(299)])\n",
    "# Resize images to fit in Size of IRnet(IR = Inception-Resnet)\n",
    "\n",
    "batch_size = 8\n",
    "# Set batch_size to minimum(8) because Architecture of IR is too heavy\n",
    "\n",
    "# Download CIFAR10_train datasets\n",
    "trainset = torchvision.datasets.CIFAR10(root='./data', train=True,\n",
    "                                        download=True, transform=transforms.ToTensor())\n",
    "trainloader = torch.utils.data.DataLoader(trainset, batch_size=batch_size,\n",
    "                                          shuffle=True, num_workers=6)\n",
    "\n",
    "# Download CIFAR10_test datasets\n",
    "testset = torchvision.datasets.CIFAR10(root='./data', train=False,\n",
    "                                       download=True, transform=transforms.ToTensor())\n",
    "testloader = torch.utils.data.DataLoader(testset, batch_size=batch_size,\n",
    "                                         shuffle=False, num_workers=6)\n",
    "\n",
    "classes = ('plane', 'car', 'bird', 'cat',\n",
    "           'deer', 'dog', 'frog', 'horse', 'ship', 'truck')"
   ]
  },
  {
   "cell_type": "markdown",
   "metadata": {},
   "source": [
    "Cifar10의 image 10개 load, print"
   ]
  },
  {
   "cell_type": "code",
   "execution_count": 4,
   "metadata": {},
   "outputs": [
    {
     "data": {
      "image/png": "[encoded data removed]",
      "text/plain": [
       "<Figure size 432x288 with 1 Axes>"
      ]
     },
     "metadata": {
      "needs_background": "light"
     },
     "output_type": "display_data"
    },
    {
     "name": "stdout",
     "output_type": "stream",
     "text": [
      "  dog  deer  frog   cat   car  ship horse horse\n"
     ]
    }
   ],
   "source": [
    "import matplotlib.pyplot as plt\n",
    "import numpy as np\n",
    "\n",
    "# functions to show an image\n",
    "\n",
    "def imshow(img):\n",
    "    img = img / 2 + 0.5     # unnormalize\n",
    "    npimg = img.numpy()\n",
    "    plt.imshow(np.transpose(npimg, (1, 2, 0)))\n",
    "    plt.show()\n",
    "\n",
    "\n",
    "# get some random training images\n",
    "dataiter = iter(trainloader)\n",
    "images, labels = dataiter.next()\n",
    "\n",
    "# show images\n",
    "imshow(torchvision.utils.make_grid(images))\n",
    "# print labels\n",
    "print(' '.join('%5s' % classes[labels[j]] for j in range(batch_size)))"
   ]
  },
  {
   "cell_type": "markdown",
   "metadata": {},
   "source": [
    "Convolution Class 정의"
   ]
  },
  {
   "cell_type": "code",
   "execution_count": 5,
   "metadata": {},
   "outputs": [],
   "source": [
    "class Convolution2d(nn.Module):\n",
    "    def __init__(self, in_channels, out_channels, kernel_size, **kwargs):\n",
    "        super().__init__()\n",
    "        \n",
    "        self.conv = nn.Sequential(\n",
    "            nn.Conv2d(in_channels, out_channels, kernel_size, bias=False, **kwargs),\n",
    "            nn.BatchNorm2d(out_channels),\n",
    "            nn.ReLU()\n",
    "        )\n",
    "        \n",
    "    def forward(self, x):\n",
    "        x = self.conv(x)\n",
    "        return x"
   ]
  },
  {
   "cell_type": "markdown",
   "metadata": {},
   "source": [
    "Stem Class 정의"
   ]
  },
  {
   "cell_type": "code",
   "execution_count": 8,
   "metadata": {},
   "outputs": [],
   "source": [
    "class Stem(nn.Module):\n",
    "    def __init__(self):\n",
    "        super().__init__()\n",
    "        \n",
    "        self.conv1 = nn.Sequential(\n",
    "            Convolution2d(3, 32, 3, stride=2, padding=0), #Input (299,299,3) ---Conv2D---> (149,149,32)\n",
    "            Convolution2d(32, 32, 3, stride=1, padding=0),\n",
    "            Convolution2d(32, 64, 3, stride=1, padding=1), # 147 x 147 x 64 \n",
    "        )\n",
    "\n",
    "        self.branch3x3_conv = Convolution2d(64, 96, 3, stride=2, padding=0) # 73x73x96\n",
    "\n",
    "        #  kernel_size=4: 피쳐맵 크기 73, kernel_size=3: 피쳐맵 크기 74\n",
    "        self.branch3x3_pool = nn.MaxPool2d(4, stride=2, padding=1) # 73x73x64\n",
    "\n",
    "        self.branch7x7a = nn.Sequential(\n",
    "            Convolution2d(160, 64, 1, stride=1, padding=0),\n",
    "            Convolution2d(64, 96, 3, stride=1, padding=0)\n",
    "        ) # 71x71x96\n",
    "\n",
    "        self.branch7x7b = nn.Sequential(\n",
    "            Convolution2d(160, 64, 1, stride=1, padding=0),\n",
    "            Convolution2d(64, 64, (7,1), stride=1, padding=(3,0)),\n",
    "            Convolution2d(64, 64, (1,7), stride=1, padding=(0,3)),\n",
    "            Convolution2d(64, 96, 3, stride=1, padding=0)\n",
    "        ) # 71x71x96\n",
    "\n",
    "        self.branchpoola = Convolution2d(192, 192, 3, stride=2, padding=0) # 35x35x192\n",
    "\n",
    "        #  kernel_size=4: 피쳐맵 크기 73, kernel_size=3: 피쳐맵 크기 74\n",
    "        self.branchpoolb = nn.MaxPool2d(4, 2, 1) # 35x35x192\n",
    "        \n",
    "    def forward(self, x):\n",
    "        x = self.conv1(x)\n",
    "        x = torch.cat((self.branch3x3_conv(x), self.branch3x3_pool(x)), dim=1)\n",
    "        x = torch.cat((self.branch7x7a(x), self.branch7x7b(x)), dim=1)\n",
    "        x = torch.cat((self.branchpoola(x), self.branchpoolb(x)), dim=1)\n",
    "        return x    \n",
    "    \n",
    "    # concatenate"
   ]
  },
  {
   "cell_type": "markdown",
   "metadata": {},
   "source": [
    "Stem shape 확인"
   ]
  },
  {
   "cell_type": "code",
   "execution_count": 31,
   "metadata": {
    "scrolled": true
   },
   "outputs": [
    {
     "name": "stdout",
     "output_type": "stream",
     "text": [
      "----------------------------------------------------------------\n",
      "        Layer (type)               Output Shape         Param #\n",
      "================================================================\n",
      "            Conv2d-1         [-1, 32, 149, 149]             864\n",
      "       BatchNorm2d-2         [-1, 32, 149, 149]              64\n",
      "              ReLU-3         [-1, 32, 149, 149]               0\n",
      "     Convolution2d-4         [-1, 32, 149, 149]               0\n",
      "            Conv2d-5         [-1, 32, 147, 147]           9,216\n",
      "       BatchNorm2d-6         [-1, 32, 147, 147]              64\n",
      "              ReLU-7         [-1, 32, 147, 147]               0\n",
      "     Convolution2d-8         [-1, 32, 147, 147]               0\n",
      "            Conv2d-9         [-1, 64, 147, 147]          18,432\n",
      "      BatchNorm2d-10         [-1, 64, 147, 147]             128\n",
      "             ReLU-11         [-1, 64, 147, 147]               0\n",
      "    Convolution2d-12         [-1, 64, 147, 147]               0\n",
      "           Conv2d-13           [-1, 96, 73, 73]          55,296\n",
      "      BatchNorm2d-14           [-1, 96, 73, 73]             192\n",
      "             ReLU-15           [-1, 96, 73, 73]               0\n",
      "    Convolution2d-16           [-1, 96, 73, 73]               0\n",
      "        MaxPool2d-17           [-1, 64, 73, 73]               0\n",
      "           Conv2d-18           [-1, 64, 73, 73]          10,240\n",
      "      BatchNorm2d-19           [-1, 64, 73, 73]             128\n",
      "             ReLU-20           [-1, 64, 73, 73]               0\n",
      "    Convolution2d-21           [-1, 64, 73, 73]               0\n",
      "           Conv2d-22           [-1, 96, 71, 71]          55,296\n",
      "      BatchNorm2d-23           [-1, 96, 71, 71]             192\n",
      "             ReLU-24           [-1, 96, 71, 71]               0\n",
      "    Convolution2d-25           [-1, 96, 71, 71]               0\n",
      "           Conv2d-26           [-1, 64, 73, 73]          10,240\n",
      "      BatchNorm2d-27           [-1, 64, 73, 73]             128\n",
      "             ReLU-28           [-1, 64, 73, 73]               0\n",
      "    Convolution2d-29           [-1, 64, 73, 73]               0\n",
      "           Conv2d-30           [-1, 64, 73, 73]          28,672\n",
      "      BatchNorm2d-31           [-1, 64, 73, 73]             128\n",
      "             ReLU-32           [-1, 64, 73, 73]               0\n",
      "    Convolution2d-33           [-1, 64, 73, 73]               0\n",
      "           Conv2d-34           [-1, 64, 73, 73]          28,672\n",
      "      BatchNorm2d-35           [-1, 64, 73, 73]             128\n",
      "             ReLU-36           [-1, 64, 73, 73]               0\n",
      "    Convolution2d-37           [-1, 64, 73, 73]               0\n",
      "           Conv2d-38           [-1, 96, 71, 71]          55,296\n",
      "      BatchNorm2d-39           [-1, 96, 71, 71]             192\n",
      "             ReLU-40           [-1, 96, 71, 71]               0\n",
      "    Convolution2d-41           [-1, 96, 71, 71]               0\n",
      "           Conv2d-42          [-1, 192, 35, 35]         331,776\n",
      "      BatchNorm2d-43          [-1, 192, 35, 35]             384\n",
      "             ReLU-44          [-1, 192, 35, 35]               0\n",
      "    Convolution2d-45          [-1, 192, 35, 35]               0\n",
      "        MaxPool2d-46          [-1, 192, 35, 35]               0\n",
      "================================================================\n",
      "Total params: 605,728\n",
      "Trainable params: 605,728\n",
      "Non-trainable params: 0\n",
      "----------------------------------------------------------------\n",
      "Input size (MB): 1.02\n",
      "Forward/backward pass size (MB): 183.34\n",
      "Params size (MB): 2.31\n",
      "Estimated Total Size (MB): 186.68\n",
      "----------------------------------------------------------------\n"
     ]
    }
   ],
   "source": [
    "device = torch.device('cuda' if torch.cuda.is_available() else 'cpu')\n",
    "model = Stem().to(device)\n",
    "\n",
    "summary(model, (3,299,299))"
   ]
  },
  {
   "cell_type": "markdown",
   "metadata": {},
   "source": [
    "Inception-A class 정의"
   ]
  },
  {
   "cell_type": "code",
   "execution_count": 19,
   "metadata": {},
   "outputs": [],
   "source": [
    "class Inception_A(nn.Module):\n",
    "    def __init__(self, in_channels):\n",
    "        super().__init__()\n",
    "\n",
    "        self.branch1x1 = Convolution2d(in_channels, 32, 1, stride=1, padding=0)\n",
    "\n",
    "        self.branch3x3 = nn.Sequential(\n",
    "            Convolution2d(in_channels, 32, 1, stride=1, padding=0),\n",
    "            Convolution2d(32, 32, 3, stride=1, padding=1)\n",
    "        )\n",
    "\n",
    "        self.branch3x3stack = nn.Sequential(\n",
    "            Convolution2d(in_channels, 32, 1, stride=1, padding=0),\n",
    "            Convolution2d(32, 48, 3, stride=1, padding=1),\n",
    "            Convolution2d(48, 64, 3, stride=1, padding=1)\n",
    "        )\n",
    "        \n",
    "        self.reduction1x1 = nn.Conv2d(128, 384, 1, stride=1, padding=0)\n",
    "        self.shortcut = nn.Conv2d(in_channels, 384, 1, stride=1, padding=0)\n",
    "        self.bn = nn.BatchNorm2d(384)\n",
    "        self.relu = nn.ReLU()\n",
    "\n",
    "    def forward(self, x):\n",
    "        x_shortcut = self.shortcut(x)\n",
    "        x = torch.cat((self.branch1x1(x), self.branch3x3(x), self.branch3x3stack(x)), dim=1) # concatenate : 채널끼리 다더해줌\n",
    "        x = self.reduction1x1(x)\n",
    "        x = self.bn(x_shortcut + x)\n",
    "        x = self.relu(x)\n",
    "        return x"
   ]
  },
  {
   "cell_type": "markdown",
   "metadata": {},
   "source": [
    "Inception A Shape 확인"
   ]
  },
  {
   "cell_type": "code",
   "execution_count": 17,
   "metadata": {},
   "outputs": [
    {
     "name": "stdout",
     "output_type": "stream",
     "text": [
      "----------------------------------------------------------------\n",
      "        Layer (type)               Output Shape         Param #\n",
      "================================================================\n",
      "            Conv2d-1          [-1, 384, 35, 35]          74,112\n",
      "            Conv2d-2           [-1, 32, 35, 35]           6,144\n",
      "       BatchNorm2d-3           [-1, 32, 35, 35]              64\n",
      "              ReLU-4           [-1, 32, 35, 35]               0\n",
      "     Convolution2d-5           [-1, 32, 35, 35]               0\n",
      "            Conv2d-6           [-1, 32, 35, 35]           6,144\n",
      "       BatchNorm2d-7           [-1, 32, 35, 35]              64\n",
      "              ReLU-8           [-1, 32, 35, 35]               0\n",
      "     Convolution2d-9           [-1, 32, 35, 35]               0\n",
      "           Conv2d-10           [-1, 32, 35, 35]           9,216\n",
      "      BatchNorm2d-11           [-1, 32, 35, 35]              64\n",
      "             ReLU-12           [-1, 32, 35, 35]               0\n",
      "    Convolution2d-13           [-1, 32, 35, 35]               0\n",
      "           Conv2d-14           [-1, 32, 35, 35]           6,144\n",
      "      BatchNorm2d-15           [-1, 32, 35, 35]              64\n",
      "             ReLU-16           [-1, 32, 35, 35]               0\n",
      "    Convolution2d-17           [-1, 32, 35, 35]               0\n",
      "           Conv2d-18           [-1, 48, 35, 35]          13,824\n",
      "      BatchNorm2d-19           [-1, 48, 35, 35]              96\n",
      "             ReLU-20           [-1, 48, 35, 35]               0\n",
      "    Convolution2d-21           [-1, 48, 35, 35]               0\n",
      "           Conv2d-22           [-1, 64, 35, 35]          27,648\n",
      "      BatchNorm2d-23           [-1, 64, 35, 35]             128\n",
      "             ReLU-24           [-1, 64, 35, 35]               0\n",
      "    Convolution2d-25           [-1, 64, 35, 35]               0\n",
      "           Conv2d-26          [-1, 384, 35, 35]          49,536\n",
      "      BatchNorm2d-27          [-1, 384, 35, 35]             768\n",
      "             ReLU-28          [-1, 384, 35, 35]               0\n",
      "================================================================\n",
      "Total params: 194,016\n",
      "Trainable params: 194,016\n",
      "Non-trainable params: 0\n",
      "----------------------------------------------------------------\n",
      "Input size (MB): 0.90\n",
      "Forward/backward pass size (MB): 23.33\n",
      "Params size (MB): 0.74\n",
      "Estimated Total Size (MB): 24.96\n",
      "----------------------------------------------------------------\n"
     ]
    }
   ],
   "source": [
    "device = torch.device('cuda' if torch.cuda.is_available() else 'cpu')\n",
    "model = IR_Module_A(192).to(device)\n",
    "\n",
    "summary(model, (192,35,35))"
   ]
  },
  {
   "cell_type": "markdown",
   "metadata": {},
   "source": [
    "Reduction-A 정의"
   ]
  },
  {
   "cell_type": "code",
   "execution_count": 20,
   "metadata": {},
   "outputs": [],
   "source": [
    "class ReductionA(nn.Module):\n",
    "    def __init__(self, in_channels, k, l, m, n):\n",
    "        super().__init__()\n",
    "\n",
    "        self.branchpool = nn.MaxPool2d(3, 2)\n",
    "        self.branch3x3 = Convolution2d(in_channels, n, 3, stride=2, padding=0)\n",
    "        self.branch3x3stack = nn.Sequential(\n",
    "            Convolution2d(in_channels, k, 1, stride=1, padding=0),\n",
    "            Convolution2d(k, l, 3, stride=1, padding=1),\n",
    "            Convolution2d(l, m, 3, stride=2, padding=0)\n",
    "            )\n",
    "\n",
    "        self.output_channels = in_channels + n + m\n",
    "\n",
    "    def forward(self, x):\n",
    "        x = torch.cat((self.branchpool(x), self.branch3x3(x), self.branch3x3stack(x)), dim=1)\n",
    "        return x"
   ]
  },
  {
   "cell_type": "markdown",
   "metadata": {},
   "source": [
    "Reduction A shape 확인"
   ]
  },
  {
   "cell_type": "code",
   "execution_count": 30,
   "metadata": {},
   "outputs": [
    {
     "name": "stdout",
     "output_type": "stream",
     "text": [
      "----------------------------------------------------------------\n",
      "        Layer (type)               Output Shape         Param #\n",
      "================================================================\n",
      "         MaxPool2d-1        [-1, 384, 127, 127]               0\n",
      "            Conv2d-2        [-1, 384, 127, 127]       1,327,104\n",
      "       BatchNorm2d-3        [-1, 384, 127, 127]             768\n",
      "              ReLU-4        [-1, 384, 127, 127]               0\n",
      "     Convolution2d-5        [-1, 384, 127, 127]               0\n",
      "            Conv2d-6        [-1, 256, 256, 256]          98,304\n",
      "       BatchNorm2d-7        [-1, 256, 256, 256]             512\n",
      "              ReLU-8        [-1, 256, 256, 256]               0\n",
      "     Convolution2d-9        [-1, 256, 256, 256]               0\n",
      "           Conv2d-10        [-1, 256, 256, 256]         589,824\n",
      "      BatchNorm2d-11        [-1, 256, 256, 256]             512\n",
      "             ReLU-12        [-1, 256, 256, 256]               0\n",
      "    Convolution2d-13        [-1, 256, 256, 256]               0\n",
      "           Conv2d-14        [-1, 384, 127, 127]         884,736\n",
      "      BatchNorm2d-15        [-1, 384, 127, 127]             768\n",
      "             ReLU-16        [-1, 384, 127, 127]               0\n",
      "    Convolution2d-17        [-1, 384, 127, 127]               0\n",
      "================================================================\n",
      "Total params: 2,902,528\n",
      "Trainable params: 2,902,528\n",
      "Non-trainable params: 0\n",
      "----------------------------------------------------------------\n",
      "Input size (MB): 96.00\n",
      "Forward/backward pass size (MB): 1449.28\n",
      "Params size (MB): 11.07\n",
      "Estimated Total Size (MB): 1556.35\n",
      "----------------------------------------------------------------\n"
     ]
    }
   ],
   "source": [
    "device = torch.device('cuda' if torch.cuda.is_available() else 'cpu')\n",
    "model = ReductionA(384, 256, 256, 384, 384).to(device)\n",
    "\n",
    "summary(model, (384, ))"
   ]
  },
  {
   "cell_type": "markdown",
   "metadata": {},
   "source": [
    "Inception B Class 정의"
   ]
  },
  {
   "cell_type": "code",
   "execution_count": null,
   "metadata": {},
   "outputs": [],
   "source": [
    "class Inception_B(nn.Module):\n",
    "    def __init__(self, in_channels):\n",
    "        super().__init__()\n",
    "\n",
    "        self.branch1x1 = Convolution2d(in_channels, 32, 1, stride=1, padding=0)\n",
    "\n",
    "        self.branch3x3 = nn.Sequential(\n",
    "            Convolution2d(in_channels, 32, 1, stride=1, padding=0),\n",
    "            Convolution2d(32, 32, 3, stride=1, padding=1)\n",
    "        )\n",
    "\n",
    "        self.branch3x3stack = nn.Sequential(\n",
    "            Convolution2d(in_channels, 32, 1, stride=1, padding=0),\n",
    "            Convolution2d(32, 48, 3, stride=1, padding=1),\n",
    "            Convolution2d(48, 64, 3, stride=1, padding=1)\n",
    "        )\n",
    "        \n",
    "        self.reduction1x1 = nn.Conv2d(128, 384, 1, stride=1, padding=0)\n",
    "        self.shortcut = nn.Conv2d(in_channels, 384, 1, stride=1, padding=0)\n",
    "        self.bn = nn.BatchNorm2d(384)\n",
    "        self.relu = nn.ReLU()\n",
    "\n",
    "    def forward(self, x):\n",
    "        x_shortcut = self.shortcut(x)\n",
    "        x = torch.cat((self.branch1x1(x), self.branch3x3(x), self.branch3x3stack(x)), dim=1)\n",
    "        x = self.reduction1x1(x)\n",
    "        x = self.bn(x_shortcut + x)\n",
    "        x = self.relu(x)\n",
    "        return x"
   ]
  },
  {
   "cell_type": "code",
   "execution_count": null,
   "metadata": {},
   "outputs": [],
   "source": []
  },
  {
   "cell_type": "code",
   "execution_count": null,
   "metadata": {},
   "outputs": [],
   "source": []
  },
  {
   "cell_type": "code",
   "execution_count": null,
   "metadata": {},
   "outputs": [],
   "source": []
  },
  {
   "cell_type": "code",
   "execution_count": null,
   "metadata": {},
   "outputs": [],
   "source": []
  },
  {
   "cell_type": "code",
   "execution_count": null,
   "metadata": {},
   "outputs": [],
   "source": []
  },
  {
   "cell_type": "code",
   "execution_count": null,
   "metadata": {},
   "outputs": [],
   "source": []
  },
  {
   "cell_type": "code",
   "execution_count": null,
   "metadata": {},
   "outputs": [],
   "source": []
  },
  {
   "cell_type": "code",
   "execution_count": null,
   "metadata": {},
   "outputs": [],
   "source": []
  },
  {
   "cell_type": "code",
   "execution_count": null,
   "metadata": {},
   "outputs": [],
   "source": []
  }
 ],
 "metadata": {
  "kernelspec": {
   "display_name": "Python 3",
   "language": "python",
   "name": "python3"
  },
  "language_info": {
   "codemirror_mode": {
    "name": "ipython",
    "version": 3
   },
   "file_extension": ".py",
   "mimetype": "text/x-python",
   "name": "python",
   "nbconvert_exporter": "python",
   "pygments_lexer": "ipython3",
   "version": "3.8.8"
  }
 },
 "nbformat": 4,
 "nbformat_minor": 1
}
